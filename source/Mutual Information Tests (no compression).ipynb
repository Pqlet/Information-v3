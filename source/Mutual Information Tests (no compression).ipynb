{
 "cells": [
  {
   "cell_type": "markdown",
   "metadata": {},
   "source": [
    "# Тесты эстиматоров взаимной информации"
   ]
  },
  {
   "cell_type": "markdown",
   "metadata": {},
   "source": [
    "## Преамбула"
   ]
  },
  {
   "cell_type": "code",
   "execution_count": null,
   "metadata": {},
   "outputs": [],
   "source": [
    "import numpy as np"
   ]
  },
  {
   "cell_type": "code",
   "execution_count": null,
   "metadata": {},
   "outputs": [],
   "source": [
    "%matplotlib inline\n",
    "import matplotlib\n",
    "import matplotlib.pyplot as plt"
   ]
  },
  {
   "cell_type": "code",
   "execution_count": null,
   "metadata": {},
   "outputs": [],
   "source": [
    "font = {'family' : 'DejaVu Sans',\n",
    "        'size'   : 18}\n",
    "\n",
    "matplotlib.rc('font', **font)"
   ]
  },
  {
   "cell_type": "markdown",
   "metadata": {},
   "source": [
    "### Импортирование модуля"
   ]
  },
  {
   "cell_type": "code",
   "execution_count": null,
   "metadata": {},
   "outputs": [],
   "source": [
    "import sys\n",
    "sys.path.insert(0, './py')"
   ]
  },
  {
   "cell_type": "code",
   "execution_count": null,
   "metadata": {},
   "outputs": [],
   "source": [
    "import mutinfo.estimators.mutual_information as mi_estiamtors\n",
    "from mutinfo.utils.dependent_norm import multivariate_normal_from_MI"
   ]
  },
  {
   "cell_type": "code",
   "execution_count": null,
   "metadata": {},
   "outputs": [],
   "source": [
    "global_n_jobs = 32"
   ]
  },
  {
   "cell_type": "markdown",
   "metadata": {},
   "source": [
    "## Нормальный случайный вектор"
   ]
  },
  {
   "cell_type": "code",
   "execution_count": null,
   "metadata": {},
   "outputs": [],
   "source": [
    "# Исследуемые значения взаимной информации.\n",
    "MI = [0.0, 0.01, 0.05, 0.1, 0.2, 0.3, 0.5, 0.7, 1.0, 1.5, 2.0, 3.0, 5.0, 7.0, 10.0]\n",
    "n_exps = len(MI)\n",
    "\n",
    "# Число экземпляров и размерности векторов X и Y.\n",
    "n_samples = 1000\n",
    "X_dimension = 2\n",
    "Y_dimension = 2"
   ]
  },
  {
   "cell_type": "code",
   "execution_count": null,
   "metadata": {},
   "outputs": [],
   "source": [
    "# Оценки взаимной информации.\n",
    "estimated_MI = []\n",
    "\n",
    "# Проведение тестов.\n",
    "for n_exp in range(n_exps):\n",
    "    # Генерация.\n",
    "    random_variable = multivariate_normal_from_MI(X_dimension, Y_dimension, MI[n_exp])\n",
    "    X_Y = random_variable.rvs(n_samples)\n",
    "    X = X_Y[:, 0:X_dimension]\n",
    "    Y = X_Y[:, X_dimension:X_dimension + Y_dimension]\n",
    "    \n",
    "    # Оценка энтропии.\n",
    "    mi_estimator = mi_estiamtors.MutualInfoEstimator(Y_is_discrette = False, n_jobs = global_n_jobs)\n",
    "    mi_estimator.fit(X, Y, verbose = 10)\n",
    "    estimated_MI.append(mi_estimator.predict(X, Y, verbose = 10))"
   ]
  },
  {
   "cell_type": "code",
   "execution_count": null,
   "metadata": {},
   "outputs": [],
   "source": [
    "estimated_MI_mean = np.array([estimated_MI[index][0] for index in range(n_exps)])\n",
    "estimated_MI_std  = np.array([estimated_MI[index][1] for index in range(n_exps)])"
   ]
  },
  {
   "cell_type": "code",
   "execution_count": null,
   "metadata": {},
   "outputs": [],
   "source": [
    "fig_normal, ax_normal = plt.subplots()\n",
    "\n",
    "fig_normal.set_figheight(11)\n",
    "fig_normal.set_figwidth(16)\n",
    "\n",
    "# Сетка.\n",
    "ax_normal.grid(color='#000000', alpha=0.15, linestyle='-', linewidth=1, which='major')\n",
    "ax_normal.grid(color='#000000', alpha=0.1, linestyle='-', linewidth=0.5, which='minor')\n",
    "\n",
    "ax_normal.set_title(\"Тест на нормальном векторе\")\n",
    "ax_normal.set_xlabel(\"$I(X,Y)$\")\n",
    "ax_normal.set_ylabel(\"$\\\\hat I(X,Y)$\")\n",
    "\n",
    "#ax_normal.set_yscale('log')\n",
    "#ax_normal.set_xscale('log')\n",
    "\n",
    "ax_normal.plot(MI, MI, label=\"$I(X,Y)$\")\n",
    "ax_normal.plot(MI, estimated_MI_mean, label=\"$\\\\hat I(X,Y)$\")\n",
    "ax_normal.fill_between(MI, estimated_MI_mean + estimated_MI_std, estimated_MI_mean - estimated_MI_std, alpha=0.2)\n",
    "\n",
    "ax_normal.legend(loc='upper right')\n",
    "plt.show();"
   ]
  },
  {
   "cell_type": "code",
   "execution_count": null,
   "metadata": {},
   "outputs": [],
   "source": []
  }
 ],
 "metadata": {
  "kernelspec": {
   "display_name": "Python 3",
   "language": "python",
   "name": "python3"
  },
  "language_info": {
   "codemirror_mode": {
    "name": "ipython",
    "version": 3
   },
   "file_extension": ".py",
   "mimetype": "text/x-python",
   "name": "python",
   "nbconvert_exporter": "python",
   "pygments_lexer": "ipython3",
   "version": "3.6.9"
  }
 },
 "nbformat": 4,
 "nbformat_minor": 2
}
