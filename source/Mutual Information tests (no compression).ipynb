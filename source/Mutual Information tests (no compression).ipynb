{
 "cells": [
  {
   "cell_type": "markdown",
   "metadata": {},
   "source": [
    "# Тесты эстиматоров взаимной информации"
   ]
  },
  {
   "cell_type": "markdown",
   "metadata": {},
   "source": [
    "## Преамбула"
   ]
  },
  {
   "cell_type": "code",
   "execution_count": null,
   "metadata": {},
   "outputs": [],
   "source": [
    "import numpy as np\n",
    "import pandas as pd"
   ]
  },
  {
   "cell_type": "code",
   "execution_count": null,
   "metadata": {},
   "outputs": [],
   "source": [
    "%matplotlib inline\n",
    "import matplotlib\n",
    "import matplotlib.pyplot as plt\n",
    "\n",
    "import seaborn as sns"
   ]
  },
  {
   "cell_type": "code",
   "execution_count": null,
   "metadata": {},
   "outputs": [],
   "source": [
    "font = {'family' : 'DejaVu Sans',\n",
    "        'size'   : 18}\n",
    "\n",
    "matplotlib.rc('font', **font)"
   ]
  },
  {
   "cell_type": "markdown",
   "metadata": {},
   "source": [
    "#### Импортирование модуля"
   ]
  },
  {
   "cell_type": "code",
   "execution_count": null,
   "metadata": {},
   "outputs": [],
   "source": [
    "import sys\n",
    "sys.path.insert(0, './py')"
   ]
  },
  {
   "cell_type": "code",
   "execution_count": null,
   "metadata": {},
   "outputs": [],
   "source": [
    "import mutinfo.estimators.mutual_information as mi_estimators\n",
    "from mutinfo.utils.dependent_norm import multivariate_normal_from_MI"
   ]
  },
  {
   "cell_type": "code",
   "execution_count": null,
   "metadata": {},
   "outputs": [],
   "source": [
    "global_n_jobs = 32"
   ]
  },
  {
   "cell_type": "markdown",
   "metadata": {},
   "source": [
    "#### Стандартные тесты с произвольным преобразованием"
   ]
  },
  {
   "cell_type": "code",
   "execution_count": null,
   "metadata": {},
   "outputs": [],
   "source": [
    "def perform_normal_test(mi, n_samples, X_dimension, Y_dimension, X_map = None, Y_map = None, verbose = 0):\n",
    "    # Генерация.\n",
    "    random_variable = multivariate_normal_from_MI(X_dimension, Y_dimension, mi)\n",
    "    X_Y = random_variable.rvs(n_samples)\n",
    "    X = X_Y[:, 0:X_dimension]\n",
    "    Y = X_Y[:, X_dimension:X_dimension + Y_dimension]\n",
    "        \n",
    "    # Применение преобразования.\n",
    "    if not X_map is None:\n",
    "        X = X_map(X)\n",
    "           \n",
    "    if not Y_map is None:\n",
    "        Y = Y_map(Y)\n",
    "            \n",
    "    if (not X_map is None) or (not Y_map is None):\n",
    "        X_Y = np.concatenate([X, Y], axis=1)\n",
    "\n",
    "    # Оценка энтропии.\n",
    "    mi_estimator = mi_estimators.MutualInfoEstimator(Y_is_discrette = False, n_jobs = global_n_jobs)\n",
    "    mi_estimator.fit(X, Y, verbose = verbose)\n",
    "    \n",
    "    return mi_estimator.predict(X, Y, verbose = verbose)"
   ]
  },
  {
   "cell_type": "markdown",
   "metadata": {},
   "source": [
    "#### График оценки взаимной информации"
   ]
  },
  {
   "cell_type": "markdown",
   "metadata": {},
   "source": [
    "## Зависимость оценки от истинного значения"
   ]
  },
  {
   "cell_type": "code",
   "execution_count": null,
   "metadata": {},
   "outputs": [],
   "source": [
    "def perform_normal_test_MI(MI, n_samples, X_dimension, Y_dimension, X_map = None, Y_map = None, verbose = 0):\n",
    "    \"\"\"\n",
    "    Вычислить оценки взаимной информации для разных истинных значений.\n",
    "    \"\"\"\n",
    "    n_exps = len(MI)\n",
    "    \n",
    "    # Оценки взаимной информации.\n",
    "    estimated_MI = []\n",
    "\n",
    "    # Проведение тестов.\n",
    "    for n_exp in range(n_exps):\n",
    "        print(\"\\nn_exp = %d/%d\\n------------\\n\" % (n_exp + 1, n_exps))\n",
    "        estimated_MI.append(perform_normal_test(MI[n_exp], n_samples, X_dimension, Y_dimension,\n",
    "                                                X_map, Y_map, verbose))\n",
    "        \n",
    "    return estimated_MI"
   ]
  },
  {
   "cell_type": "code",
   "execution_count": null,
   "metadata": {},
   "outputs": [],
   "source": [
    "def plot_estimated_MI(MI, estimated_MI, title):\n",
    "    estimated_MI_mean = np.array([estimated_MI[index][0] for index in range(len(estimated_MI))])\n",
    "    estimated_MI_std  = np.array([estimated_MI[index][1] for index in range(len(estimated_MI))])\n",
    "    \n",
    "    fig_normal, ax_normal = plt.subplots()\n",
    "\n",
    "    fig_normal.set_figheight(11)\n",
    "    fig_normal.set_figwidth(16)\n",
    "\n",
    "    # Сетка.\n",
    "    ax_normal.grid(color='#000000', alpha=0.15, linestyle='-', linewidth=1, which='major')\n",
    "    ax_normal.grid(color='#000000', alpha=0.1, linestyle='-', linewidth=0.5, which='minor')\n",
    "\n",
    "    ax_normal.set_title(title)\n",
    "    ax_normal.set_xlabel(\"$I(X,Y)$\")\n",
    "    ax_normal.set_ylabel(\"$\\\\hat I(X,Y)$\")\n",
    "    \n",
    "    ax_normal.minorticks_on()\n",
    "    \n",
    "    #ax_normal.set_yscale('log')\n",
    "    #ax_normal.set_xscale('log')\n",
    "\n",
    "    ax_normal.plot(MI, MI, label=\"$I(X,Y)$\")\n",
    "    ax_normal.plot(MI, estimated_MI_mean, label=\"$\\\\hat I(X,Y)$\")\n",
    "    ax_normal.fill_between(MI, estimated_MI_mean + estimated_MI_std, estimated_MI_mean - estimated_MI_std, alpha=0.2)\n",
    "\n",
    "    ax_normal.legend(loc='upper left')\n",
    "\n",
    "    ax_normal.set_xlim((0.0, None))\n",
    "    ax_normal.set_ylim((0.0, None))\n",
    "\n",
    "    plt.show();"
   ]
  },
  {
   "cell_type": "markdown",
   "metadata": {},
   "source": [
    "### Глобальные параметры тестов"
   ]
  },
  {
   "cell_type": "code",
   "execution_count": null,
   "metadata": {},
   "outputs": [],
   "source": [
    "# Исследуемые значения взаимной информации.\n",
    "#MI = [0.0, 0.1, 0.2, 0.3, 0.5, 0.7, 1.0, 1.5, 2.0, 3.0, 5.0, 6.0, 8.0, 10.0]\n",
    "MI = [0.0, 0.1, 0.2, 0.5, 1.0, 2.0, 5.0, 10.0]\n",
    "#MI = [0.0, 2.0, 5.0]\n",
    "n_exps = len(MI)\n",
    "\n",
    "# Число экземпляров и размерности векторов X и Y.\n",
    "n_samples = 10000\n",
    "X_dimension = 4\n",
    "Y_dimension = 4"
   ]
  },
  {
   "cell_type": "markdown",
   "metadata": {},
   "source": [
    "### Нормальный случайный вектор"
   ]
  },
  {
   "cell_type": "code",
   "execution_count": null,
   "metadata": {
    "scrolled": true
   },
   "outputs": [],
   "source": [
    "# Оценки взаимной информации.\n",
    "estimated_MI = perform_normal_test_MI(MI, n_samples, X_dimension, Y_dimension, verbose=10)"
   ]
  },
  {
   "cell_type": "code",
   "execution_count": null,
   "metadata": {
    "scrolled": false
   },
   "outputs": [],
   "source": [
    "plot_estimated_MI(MI, estimated_MI, \"Нормальные векторы\")"
   ]
  },
  {
   "cell_type": "markdown",
   "metadata": {},
   "source": [
    "### Равномерные распределения\n",
    "\n",
    "Применим к компонентам нормального случайного вектора их функцию распределения."
   ]
  },
  {
   "cell_type": "code",
   "execution_count": null,
   "metadata": {},
   "outputs": [],
   "source": [
    "from scipy.special import ndtr"
   ]
  },
  {
   "cell_type": "code",
   "execution_count": null,
   "metadata": {},
   "outputs": [],
   "source": [
    "# Оценки взаимной информации.\n",
    "estimated_MI = perform_normal_test_MI(MI, n_samples, X_dimension, Y_dimension, X_map = ndtr, Y_map = ndtr,\n",
    "                                      verbose=10)"
   ]
  },
  {
   "cell_type": "code",
   "execution_count": null,
   "metadata": {
    "scrolled": false
   },
   "outputs": [],
   "source": [
    "plot_estimated_MI(MI, estimated_MI, \"Равномерное распределение\")"
   ]
  },
  {
   "cell_type": "markdown",
   "metadata": {},
   "source": [
    "### Полиномы\n",
    "\n",
    "Получим равномерные распределения согласно второму пункту. Далее применим следующее преобразование:\n",
    "\n",
    "$$\n",
    "\\begin{cases}\n",
    "x'_1 = (x_1 + 1)^2 \\\\\n",
    "x'_2 = x_1 + (x_2 + 1)^2 \\\\\n",
    "\\ldots \\\\\n",
    "x'_d = x_{d-1} + (x_d + 1)^2\n",
    "\\end{cases}\n",
    "$$"
   ]
  },
  {
   "cell_type": "code",
   "execution_count": null,
   "metadata": {},
   "outputs": [],
   "source": [
    "def poly_mapping(X):\n",
    "    \"\"\"\n",
    "    Преобразование нормального вектора согласно формуле выше.\n",
    "    \"\"\"\n",
    "    \n",
    "    assert len(X.shape) == 2\n",
    "    \n",
    "    X = ndtr(X)\n",
    "    new_X = np.zeros_like(X)\n",
    "    for index in range(X.shape[0]):\n",
    "        new_X[index][0] = (X[index][0] + 1)**2\n",
    "        for jndex in range(1, X.shape[1]):\n",
    "            new_X[index][jndex] = X[index][jndex - 1] + (X[index][jndex] + 1.0)**2\n",
    "            \n",
    "    return new_X"
   ]
  },
  {
   "cell_type": "code",
   "execution_count": null,
   "metadata": {},
   "outputs": [],
   "source": [
    "# Оценки взаимной информации.\n",
    "estimated_MI = perform_normal_test_MI(MI, n_samples, X_dimension, Y_dimension, X_map = poly_mapping,\n",
    "                                      Y_map = poly_mapping, verbose=10)"
   ]
  },
  {
   "cell_type": "code",
   "execution_count": null,
   "metadata": {},
   "outputs": [],
   "source": [
    "plot_estimated_MI(MI, estimated_MI, \"Полиномы\")"
   ]
  },
  {
   "cell_type": "markdown",
   "metadata": {},
   "source": [
    "### Кольца\n",
    "\n",
    "Получим равномерные распределения согласно второму пункту. Далее применим следующее преобразование:\n",
    "\n",
    "$$\n",
    "\\begin{cases}\n",
    "x' = [R \\cdot x + r \\cdot (1 - x)] \\cdot \\cos(2 \\pi y) \\\\\n",
    "y' = [R \\cdot x + r \\cdot (1 - x)] \\cdot \\sin(2 \\pi y) \\\\\n",
    "\\end{cases}\n",
    "$$\n",
    "\n",
    "Здесь требуется размерность $ 2 $ у обоих векторов."
   ]
  },
  {
   "cell_type": "code",
   "execution_count": null,
   "metadata": {},
   "outputs": [],
   "source": [
    "r = 1.0\n",
    "R = 2.0\n",
    "\n",
    "def ring_mapping(X):\n",
    "    \"\"\"\n",
    "    Нормальный вектор в кольцо.\n",
    "    \"\"\"\n",
    "    \n",
    "    assert len(X.shape) == 2\n",
    "    assert X.shape[1] == 2\n",
    "    \n",
    "    X = ndtr(X)\n",
    "    new_X = np.zeros_like(X)\n",
    "    for index in range(X.shape[0]):\n",
    "        rho = R * X[index][0] + r * (1.0 - X[index][0])\n",
    "        phi = 2.0 * np.pi * X[index][1]\n",
    "        \n",
    "        new_X[index][0] = rho * np.cos(phi)\n",
    "        new_X[index][1] = rho * np.sin(phi)\n",
    "    \n",
    "    return new_X"
   ]
  },
  {
   "cell_type": "code",
   "execution_count": null,
   "metadata": {},
   "outputs": [],
   "source": [
    "def _rings_pp():\n",
    "    _X_Y = multivariate_normal_from_MI(2, 2, mutual_information=10.0).rvs(10000)\n",
    "    _X = _X_Y[:, 0:2]\n",
    "    _Y = _X_Y[:, 2:4]\n",
    "    _X = ring_mapping(_X)\n",
    "    _Y = ring_mapping(_Y)\n",
    "    _X_Y = np.concatenate([_X, _Y], axis=1)\n",
    "\n",
    "    pp = sns.pairplot(pd.DataFrame(_X_Y), height = 2.0, aspect=1.6,\n",
    "                      plot_kws=dict(edgecolor=\"k\", linewidth=0.0, alpha=0.05, size=0.01, s=0.01),\n",
    "                      diag_kind=\"kde\", diag_kws=dict(shade=True))\n",
    "\n",
    "    fig = pp.fig\n",
    "    fig.subplots_adjust(top=0.93, wspace=0.3)\n",
    "    t = fig.suptitle(\"Попарные графики\", fontsize=14)\n",
    "    \n",
    "_rings_pp()"
   ]
  },
  {
   "cell_type": "code",
   "execution_count": null,
   "metadata": {},
   "outputs": [],
   "source": [
    "# Оценки взаимной информации.\n",
    "estimated_MI = perform_normal_test_MI(MI, n_samples, 2, 2, X_map = ring_mapping, Y_map = ring_mapping, verbose=10)"
   ]
  },
  {
   "cell_type": "code",
   "execution_count": null,
   "metadata": {},
   "outputs": [],
   "source": [
    "plot_estimated_MI(MI, estimated_MI, \"Кольца\")"
   ]
  },
  {
   "cell_type": "markdown",
   "metadata": {},
   "source": [
    "## Зависимость оценки от размерности"
   ]
  },
  {
   "cell_type": "code",
   "execution_count": null,
   "metadata": {},
   "outputs": [],
   "source": [
    "def perform_normal_test_dim(mi, n_samples, dimensions, X_map = None, Y_map = None, verbose = 0):\n",
    "    \"\"\"\n",
    "    Вычислить оценки взаимной информации для разных истинных значений.\n",
    "    \"\"\"\n",
    "    n_exps = len(dimensions)\n",
    "    \n",
    "    # Оценки взаимной информации.\n",
    "    estimated_MI = []\n",
    "\n",
    "    # Проведение тестов.\n",
    "    for n_exp in range(n_exps):\n",
    "        print(\"\\nn_exp = %d/%d\\n------------\\n\" % (n_exp + 1, n_exps))\n",
    "        estimated_MI.append(perform_normal_test(mi, n_samples, dimensions[n_exp], dimensions[n_exp],\n",
    "                                                X_map, Y_map, verbose))\n",
    "        \n",
    "    return estimated_MI"
   ]
  },
  {
   "cell_type": "code",
   "execution_count": null,
   "metadata": {},
   "outputs": [],
   "source": [
    "def plot_estimated_dim(dimensions, mi, estimated_MI, title):\n",
    "    estimated_MI_mean = np.array([estimated_MI[index][0] for index in range(len(estimated_MI))])\n",
    "    estimated_MI_std  = np.array([estimated_MI[index][1] for index in range(len(estimated_MI))])\n",
    "    \n",
    "    fig_normal, ax_normal = plt.subplots()\n",
    "\n",
    "    fig_normal.set_figheight(11)\n",
    "    fig_normal.set_figwidth(16)\n",
    "\n",
    "    # Сетка.\n",
    "    ax_normal.grid(color='#000000', alpha=0.15, linestyle='-', linewidth=1, which='major')\n",
    "    ax_normal.grid(color='#000000', alpha=0.1, linestyle='-', linewidth=0.5, which='minor')\n",
    "\n",
    "    ax_normal.set_title(title)\n",
    "    ax_normal.set_xlabel(\"Размерность $ X $ и $ Y $\")\n",
    "    ax_normal.set_ylabel(\"$\\\\hat I(X,Y)$\")\n",
    "    \n",
    "    ax_normal.minorticks_on()\n",
    "    \n",
    "    #ax_normal.set_yscale('log')\n",
    "    #ax_normal.set_xscale('log')\n",
    "\n",
    "    ax_normal.plot(dimensions, np.ones_like(dimensions) * mi, label=\"$I(X,Y)$\")\n",
    "    ax_normal.plot(dimensions, estimated_MI_mean, label=\"$\\\\hat I(X,Y)$\")\n",
    "    ax_normal.fill_between(dimensions, estimated_MI_mean + estimated_MI_std, estimated_MI_mean - estimated_MI_std, alpha=0.2)\n",
    "\n",
    "    ax_normal.legend(loc='upper left')\n",
    "\n",
    "    ax_normal.set_xlim((0.0, None))\n",
    "    ax_normal.set_ylim((0.0, None))\n",
    "\n",
    "    plt.show();"
   ]
  },
  {
   "cell_type": "markdown",
   "metadata": {},
   "source": [
    "### Глобальные параметры тестов"
   ]
  },
  {
   "cell_type": "code",
   "execution_count": null,
   "metadata": {},
   "outputs": [],
   "source": [
    "#dimensions = [1, 2, 3, 4, 5, 6, 8, 10, 12, 14, 16, 20, 25, 30, 40]\n",
    "dimensions = [1, 2, 4, 6, 8, 12, 16, 20, 30, 40]\n",
    "mi = 2.0"
   ]
  },
  {
   "cell_type": "markdown",
   "metadata": {},
   "source": [
    "### Нормальный случайный вектор"
   ]
  },
  {
   "cell_type": "code",
   "execution_count": null,
   "metadata": {
    "scrolled": true
   },
   "outputs": [],
   "source": [
    "# Оценки взаимной информации.\n",
    "estimated_MI = perform_normal_test_dim(mi, n_samples, dimensions, verbose=10)"
   ]
  },
  {
   "cell_type": "code",
   "execution_count": null,
   "metadata": {},
   "outputs": [],
   "source": [
    "plot_estimated_dim(dimensions, mi, estimated_MI, \"Нормальные векторы\")"
   ]
  },
  {
   "cell_type": "code",
   "execution_count": null,
   "metadata": {},
   "outputs": [],
   "source": []
  }
 ],
 "metadata": {
  "kernelspec": {
   "display_name": "Python 3",
   "language": "python",
   "name": "python3"
  },
  "language_info": {
   "codemirror_mode": {
    "name": "ipython",
    "version": 3
   },
   "file_extension": ".py",
   "mimetype": "text/x-python",
   "name": "python",
   "nbconvert_exporter": "python",
   "pygments_lexer": "ipython3",
   "version": "3.6.9"
  }
 },
 "nbformat": 4,
 "nbformat_minor": 2
}
